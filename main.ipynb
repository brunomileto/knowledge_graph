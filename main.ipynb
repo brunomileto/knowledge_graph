{
 "cells": [
  {
   "cell_type": "code",
   "execution_count": 1,
   "metadata": {},
   "outputs": [
    {
     "data": {
      "text/plain": [
       "True"
      ]
     },
     "execution_count": 1,
     "metadata": {},
     "output_type": "execute_result"
    }
   ],
   "source": [
    "from langchain.prompts import PromptTemplate\n",
    "from langchain_openai.llms import OpenAI\n",
    "from langchain.chains import LLMChain\n",
    "from langchain.graphs.networkx_graph import KG_TRIPLE_DELIMITER\n",
    "import dotenv\n",
    "\n",
    "dotenv.load_dotenv()"
   ]
  },
  {
   "cell_type": "code",
   "execution_count": 2,
   "metadata": {},
   "outputs": [],
   "source": [
    "# Prompt template for knowledge triple extraction\n",
    "_DEFAULT_KNOWLEDGE_TRIPLE_EXTRACTION_TEMPLATE = (\n",
    "  \"You are a networked intelligence helping a human track knowledge triples\"\n",
    "  \" about all relevant people, things, concepts, etc. and integrating\"\n",
    "  \" them with your knowledge stored within your weights\"\n",
    "  \" as well as that stored in a knowledge graph.\"\n",
    "  \" Extract all of the knowledge triples from the text.\"\n",
    "  \" A knowledge triple is a clause that contains a subject, a predicate,\"\n",
    "  \" and an object. The subject is the entity being described,\"\n",
    "  \" the predicate is the property of the subject that is being\"\n",
    "  \" described, and the object is the value of the property.\\n\\n\"\n",
    "  \"EXAMPLE\\n\"\n",
    "  \"It's a state in the US. It's also the number 1 producer of gold in the US.\\n\\n\"\n",
    "  f\"Output: (Nevada, is a, state){KG_TRIPLE_DELIMITER}(Nevada, is in, US)\"\n",
    "  f\"{KG_TRIPLE_DELIMITER}(Nevada, is the number 1 producer of, gold)\\n\"\n",
    "  \"END OF EXAMPLE\\n\\n\"\n",
    "  \"EXAMPLE\\n\"\n",
    "  \"I'm going to the store.\\n\\n\"\n",
    "  \"Output: NONE\\n\"\n",
    "  \"END OF EXAMPLE\\n\\n\"\n",
    "  \"EXAMPLE\\n\"\n",
    "  \"Oh huh. I know Descartes likes to drive antique scooters and play the mandolin.\\n\"\n",
    "  f\"Output: (Descartes, likes to drive, antique scooters){KG_TRIPLE_DELIMITER}(Descartes, plays, mandolin)\\n\"\n",
    "  \"END OF EXAMPLE\\n\\n\"\n",
    "  \"EXAMPLE\\n\"\n",
    "  \"{text}\"\n",
    "  \"Output:\"\n",
    ")\n",
    "KNOWLEDGE_TRIPLE_EXTRACTION_PROMPT = PromptTemplate(\n",
    "  input_variables=['text'],\n",
    "  template=_DEFAULT_KNOWLEDGE_TRIPLE_EXTRACTION_TEMPLATE\n",
    ")"
   ]
  },
  {
   "cell_type": "code",
   "execution_count": 3,
   "metadata": {},
   "outputs": [],
   "source": [
    "llm = OpenAI(model_name='gpt-3.5-turbo-instruct', temperature=0.9)\n",
    "\n",
    "chain = LLMChain(llm=llm, prompt=KNOWLEDGE_TRIPLE_EXTRACTION_PROMPT)\n",
    "\n",
    "text = \"The city of Paris is the capital and most populous city of France. The Eiffel Tower is a famous landmark in Paris.\""
   ]
  },
  {
   "cell_type": "code",
   "execution_count": 4,
   "metadata": {},
   "outputs": [
    {
     "name": "stdout",
     "output_type": "stream",
     "text": [
      "{'text': ' (Paris, is the capital of, France)<|>(Paris, is the most populous city of, France)<|>(Eiffel Tower, is a famous landmark in, Paris)'}\n"
     ]
    }
   ],
   "source": [
    "triples = chain.invoke(text)\n",
    "print(triples)"
   ]
  },
  {
   "cell_type": "code",
   "execution_count": 8,
   "metadata": {},
   "outputs": [],
   "source": [
    "def parse_triples(response:str, delimiter=KG_TRIPLE_DELIMITER):\n",
    "  if not response:\n",
    "    return []\n",
    "  return response.split(delimiter)\n",
    "\n",
    "triples_list = parse_triples(triples['text'])"
   ]
  },
  {
   "cell_type": "code",
   "execution_count": 10,
   "metadata": {},
   "outputs": [
    {
     "name": "stdout",
     "output_type": "stream",
     "text": [
      "[' (Paris, is the capital of, France)',\n",
      " '(Paris, is the most populous city of, France)',\n",
      " '(Eiffel Tower, is a famous landmark in, Paris)']\n"
     ]
    }
   ],
   "source": [
    "from pprint import pprint\n",
    "pprint(triples_list)"
   ]
  },
  {
   "cell_type": "code",
   "execution_count": 11,
   "metadata": {},
   "outputs": [],
   "source": [
    "from pyvis.network import Network\n",
    "import networkx as nx\n",
    "\n",
    "# Create a networkx graph from the extracted relation triplets\n",
    "def create_graph_from_triplets(triplets):\n",
    "  G = nx.DiGraph()\n",
    "  for triplet in triplets:\n",
    "    subject, predicate, obj = triplet.strip().split(',')\n",
    "    G.add_edge(subject.strip(), obj.strip(), label=predicate.strip())\n",
    "  return G\n",
    "\n",
    "# Convert the networkx graph top a pyvis network\n",
    "def nx_to_pyvis(networkx_graph):\n",
    "  pyvis_graph = Network(notebook=True)\n",
    "  for node in networkx_graph.nodes():\n",
    "    pyvis_graph.add_node(node)\n",
    "  for edge in networkx_graph.edges(data=True):\n",
    "    pyvis_graph.add_edge(edge[0], edge[1], label=edge[2]['label'])\n",
    "  return pyvis_graph"
   ]
  },
  {
   "cell_type": "code",
   "execution_count": 12,
   "metadata": {},
   "outputs": [
    {
     "name": "stdout",
     "output_type": "stream",
     "text": [
      "Warning: When  cdn_resources is 'local' jupyter notebook has issues displaying graphics on chrome/safari. Use cdn_resources='in_line' or cdn_resources='remote' if you have issues viewing graphics in a notebook.\n"
     ]
    }
   ],
   "source": [
    "triplets = [t.strip() for t in triples_list if t.strip()]\n",
    "graph = create_graph_from_triplets(triplets)\n",
    "pyvis_network = nx_to_pyvis(graph)"
   ]
  },
  {
   "cell_type": "code",
   "execution_count": 13,
   "metadata": {},
   "outputs": [],
   "source": [
    "# Custom graph appearence\n",
    "pyvis_network.toggle_hide_edges_on_drag(True)\n",
    "pyvis_network.toggle_physics(False)\n",
    "pyvis_network.set_edge_smooth('discrete')"
   ]
  },
  {
   "cell_type": "code",
   "execution_count": 14,
   "metadata": {},
   "outputs": [
    {
     "name": "stdout",
     "output_type": "stream",
     "text": [
      "knowledge_graph.html\n"
     ]
    },
    {
     "data": {
      "text/html": [
       "\n",
       "        <iframe\n",
       "            width=\"100%\"\n",
       "            height=\"600px\"\n",
       "            src=\"knowledge_graph.html\"\n",
       "            frameborder=\"0\"\n",
       "            allowfullscreen\n",
       "            \n",
       "        ></iframe>\n",
       "        "
      ],
      "text/plain": [
       "<IPython.lib.display.IFrame at 0x7fab25611310>"
      ]
     },
     "execution_count": 14,
     "metadata": {},
     "output_type": "execute_result"
    }
   ],
   "source": [
    "pyvis_network.show('knowledge_graph.html')"
   ]
  },
  {
   "cell_type": "code",
   "execution_count": null,
   "metadata": {},
   "outputs": [],
   "source": []
  },
  {
   "cell_type": "code",
   "execution_count": null,
   "metadata": {},
   "outputs": [],
   "source": []
  },
  {
   "cell_type": "code",
   "execution_count": null,
   "metadata": {},
   "outputs": [],
   "source": []
  },
  {
   "cell_type": "code",
   "execution_count": null,
   "metadata": {},
   "outputs": [],
   "source": []
  },
  {
   "cell_type": "code",
   "execution_count": null,
   "metadata": {},
   "outputs": [],
   "source": []
  }
 ],
 "metadata": {
  "kernelspec": {
   "display_name": "venv",
   "language": "python",
   "name": "python3"
  },
  "language_info": {
   "codemirror_mode": {
    "name": "ipython",
    "version": 3
   },
   "file_extension": ".py",
   "mimetype": "text/x-python",
   "name": "python",
   "nbconvert_exporter": "python",
   "pygments_lexer": "ipython3",
   "version": "3.11.2"
  }
 },
 "nbformat": 4,
 "nbformat_minor": 2
}
